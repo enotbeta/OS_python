{
 "cells": [
  {
   "cell_type": "code",
   "execution_count": 1,
   "metadata": {
    "collapsed": true
   },
   "outputs": [],
   "source": [
    "import numpy as np"
   ]
  },
  {
   "cell_type": "code",
   "execution_count": 2,
   "outputs": [],
   "source": [
    "class Processor:\n",
    "    def __init__(self):\n",
    "        self.processes = []\n",
    "        self.gantt = []\n",
    "        self.quant = 3\n",
    "        self.status = []\n",
    "    def add(self, proc, quant):\n",
    "        self.processes = proc\n",
    "        self.gantt = []\n",
    "        self.quant = quant\n",
    "        self.status = np.full(len(proc), False, dtype=bool)\n",
    "        self.count = np.zeros((2, len(proc)))\n",
    "        self.in_progress = np.full(len(proc), False, dtype=bool)\n",
    "    def compute(self):\n",
    "        iter = 0\n",
    "        pointer = 0\n",
    "        length = len(self.processes)\n",
    "        stop = sum(self.processes)\n",
    "        quant_left = self.quant\n",
    "        flag = False\n",
    "        while iter != stop:\n",
    "            if quant_left == 0:\n",
    "                quant_left = self.quant\n",
    "                if not flag:\n",
    "                    pointer += 1\n",
    "                    if pointer == len:\n",
    "                        pointer = 0\n",
    "                flag = False\n",
    "            while self.status[pointer]:\n",
    "                if pointer == length - 1:\n",
    "                    pointer = 0\n",
    "                else:\n",
    "                    pointer += 1\n",
    "            self.processes[pointer] -= 1\n",
    "            quant_left -= 1\n",
    "            self.in_progress = np.full(length, False, dtype=bool)\n",
    "            self.in_progress[pointer] = True\n",
    "            self.gantt_add()\n",
    "            if self.processes[pointer] == 0:\n",
    "                flag = True\n",
    "                self.status[pointer] = True\n",
    "                if pointer == length - 1:\n",
    "                    pointer = 0\n",
    "                else:\n",
    "                    pointer += 1\n",
    "            iter += 1\n",
    "        self.gantt = np.array(self.gantt)\n",
    "        self.gantt = self.gantt.transpose()\n",
    "\n",
    "    def compute1(self):\n",
    "        priority = np.argsort(self.processes)\n",
    "        iter = 0\n",
    "\n",
    "        length = len(self.processes)\n",
    "        stop = sum(self.processes)\n",
    "        quant_left = self.quant\n",
    "        flag = False\n",
    "        iter_priority = 0\n",
    "        pr_index = priority[iter_priority]\n",
    "        pointer = pr_index\n",
    "        while not np.all(self.status == True):\n",
    "            if quant_left == 0:\n",
    "                quant_left = self.quant\n",
    "                if not flag:\n",
    "                    pointer += 1\n",
    "                    if pointer == len:\n",
    "                        pointer = 0\n",
    "                flag = False\n",
    "            while self.status[pointer]:\n",
    "                if pointer == length - 1:\n",
    "                    pointer = 0\n",
    "                else:\n",
    "                    pointer += 1\n",
    "            self.processes[pointer] -= 1\n",
    "            quant_left -= 1\n",
    "            self.in_progress = np.full(length, False, dtype=bool)\n",
    "            self.in_progress[pointer] = True\n",
    "            self.gantt_add()\n",
    "            if self.processes[pointer] == 0:\n",
    "                self.status[pointer] = True\n",
    "                iter_priority += 1\n",
    "                if iter_priority < length:\n",
    "                    pr_index = priority[iter_priority]\n",
    "                pointer = pr_index\n",
    "            iter += 1\n",
    "        self.gantt = np.array(self.gantt)\n",
    "        self.gantt = self.gantt.transpose()\n",
    "\n",
    "    def gantt_count(self):\n",
    "        t1 = []\n",
    "        t2 = []\n",
    "        for i in range(self.gantt.shape[0]):\n",
    "            t1.append(np.count_nonzero((self.gantt[i] == \"P\") + np.count_nonzero(self.gantt[i] == \"0\")))\n",
    "        for i in range(self.gantt.shape[0]):\n",
    "            t2.append(np.count_nonzero(self.gantt[i] == \"0\"))\n",
    "        return t1, t2\n",
    "    def gantt_add(self):\n",
    "        temp = list(self.status * 1)\n",
    "        index = np.where(self.in_progress == True)\n",
    "        temp[index[0][0]] = \"P\"\n",
    "        self.gantt.append(temp)"
   ],
   "metadata": {
    "collapsed": false,
    "pycharm": {
     "name": "#%%\n"
    }
   }
  },
  {
   "cell_type": "code",
   "execution_count": 3,
   "outputs": [],
   "source": [
    "x = Processor()\n",
    "x.add(np.array([5,6,8,4,1,2]), 3)\n",
    "x.compute1()\n"
   ],
   "metadata": {
    "collapsed": false,
    "pycharm": {
     "name": "#%%\n"
    }
   }
  },
  {
   "cell_type": "code",
   "execution_count": 4,
   "outputs": [
    {
     "data": {
      "text/plain": "array([['0', '0', '0', 'P', 'P', 'P', '0', '0', '0', '0', '0', '0', '0',\n        '0', '0', 'P', 'P', '1', '1', '1', '1', '1', '1', '1', '1', '1'],\n       ['0', '0', '0', '0', '0', '0', 'P', 'P', 'P', '0', '0', '0', '0',\n        '0', '0', '0', '0', 'P', '0', '0', '0', '0', 'P', 'P', '1', '1'],\n       ['0', '0', '0', '0', '0', '0', '0', '0', '0', 'P', 'P', 'P', '0',\n        '0', '0', '0', '0', '0', 'P', 'P', 'P', '0', '0', '0', 'P', 'P'],\n       ['0', '0', '0', '0', '0', '0', '0', '0', '0', '0', '0', '0', 'P',\n        'P', 'P', '0', '0', '0', '0', '0', '0', 'P', '1', '1', '1', '1'],\n       ['P', '1', '1', '1', '1', '1', '1', '1', '1', '1', '1', '1', '1',\n        '1', '1', '1', '1', '1', '1', '1', '1', '1', '1', '1', '1', '1'],\n       ['0', 'P', 'P', '1', '1', '1', '1', '1', '1', '1', '1', '1', '1',\n        '1', '1', '1', '1', '1', '1', '1', '1', '1', '1', '1', '1', '1']],\n      dtype='<U11')"
     },
     "execution_count": 4,
     "metadata": {},
     "output_type": "execute_result"
    }
   ],
   "source": [
    "x.gantt"
   ],
   "metadata": {
    "collapsed": false,
    "pycharm": {
     "name": "#%%\n"
    }
   }
  },
  {
   "cell_type": "code",
   "execution_count": 5,
   "outputs": [
    {
     "name": "stdout",
     "output_type": "stream",
     "text": [
      "Общее время выполнения =  131 Общее время ожидания =  67\n",
      "Среднее время выполнения =  21.833333333333332 Среднее время ожидания =  11.166666666666666\n"
     ]
    }
   ],
   "source": [
    "print(\"Общее время выполнения = \", sum(x.gantt_count()[0]),\"Общее время ожидания = \", sum(x.gantt_count()[1]))\n",
    "print(\"Среднее время выполнения = \", sum(x.gantt_count()[0])/6,\"Среднее время ожидания = \", sum(x.gantt_count()[1])/6)"
   ],
   "metadata": {
    "collapsed": false,
    "pycharm": {
     "name": "#%%\n"
    }
   }
  },
  {
   "cell_type": "code",
   "execution_count": 5,
   "outputs": [],
   "source": [],
   "metadata": {
    "collapsed": false,
    "pycharm": {
     "name": "#%%\n"
    }
   }
  }
 ],
 "metadata": {
  "kernelspec": {
   "display_name": "Python 3",
   "language": "python",
   "name": "python3"
  },
  "language_info": {
   "codemirror_mode": {
    "name": "ipython",
    "version": 2
   },
   "file_extension": ".py",
   "mimetype": "text/x-python",
   "name": "python",
   "nbconvert_exporter": "python",
   "pygments_lexer": "ipython2",
   "version": "2.7.6"
  }
 },
 "nbformat": 4,
 "nbformat_minor": 0
}