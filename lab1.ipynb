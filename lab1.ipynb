{
 "cells": [
  {
   "cell_type": "code",
   "execution_count": null,
   "metadata": {
    "collapsed": true,
    "pycharm": {
     "is_executing": true
    }
   },
   "outputs": [],
   "source": [
    "import numpy as np\n",
    "import pandas as pd"
   ]
  },
  {
   "cell_type": "code",
   "execution_count": 6,
   "outputs": [],
   "source": [
    "class Processor:\n",
    "    def __init__(self, cores = 2):\n",
    "        self.processes = []\n",
    "        self.core_number = cores\n",
    "        self.core_load = list()\n",
    "        self.core_sum = list()\n",
    "        for i in range(self.core_number):\n",
    "            self.core_load += [[]]\n",
    "            self.core_sum += [0]\n",
    "    def add_processes(self, processes):\n",
    "        self.processes = processes\n",
    "    def calculate(self):\n",
    "        for process in self.processes:\n",
    "            index_min = min(range(self.core_number), key = lambda i: self.core_sum[i])\n",
    "            self.core_load[index_min].append(process)\n",
    "            self.core_sum[index_min] += process\n",
    "            self.print_step(process, index=index_min)\n",
    "    def refresh(self):\n",
    "        self.core_sum = list(map(lambda x: sum(x), self.core_load))\n",
    "    def print_step(self, step, index):\n",
    "        print(\"_________________________________\")\n",
    "        print(\"Next process is \", step)\n",
    "        print(\"This process goes to this core\", index)\n",
    "        print(\"Current core load:\")\n",
    "        print(self.core_load)\n",
    "        print(\"Current core sum:\")\n",
    "        print(self.core_sum)"
   ],
   "metadata": {
    "collapsed": false,
    "pycharm": {
     "name": "#%%\n"
    }
   }
  },
  {
   "cell_type": "code",
   "execution_count": 8,
   "outputs": [
    {
     "name": "stdout",
     "output_type": "stream",
     "text": [
      "[9 9 9 9 8 7 5 4 4 3 1]\n",
      "_________________________________\n",
      "Next process is  9\n",
      "This process goes to this core 0\n",
      "Current core load:\n",
      "[[9], []]\n",
      "Current core sum:\n",
      "[9, 0]\n",
      "_________________________________\n",
      "Next process is  9\n",
      "This process goes to this core 1\n",
      "Current core load:\n",
      "[[9], [9]]\n",
      "Current core sum:\n",
      "[9, 9]\n",
      "_________________________________\n",
      "Next process is  9\n",
      "This process goes to this core 0\n",
      "Current core load:\n",
      "[[9, 9], [9]]\n",
      "Current core sum:\n",
      "[18, 9]\n",
      "_________________________________\n",
      "Next process is  9\n",
      "This process goes to this core 1\n",
      "Current core load:\n",
      "[[9, 9], [9, 9]]\n",
      "Current core sum:\n",
      "[18, 18]\n",
      "_________________________________\n",
      "Next process is  8\n",
      "This process goes to this core 0\n",
      "Current core load:\n",
      "[[9, 9, 8], [9, 9]]\n",
      "Current core sum:\n",
      "[26, 18]\n",
      "_________________________________\n",
      "Next process is  7\n",
      "This process goes to this core 1\n",
      "Current core load:\n",
      "[[9, 9, 8], [9, 9, 7]]\n",
      "Current core sum:\n",
      "[26, 25]\n",
      "_________________________________\n",
      "Next process is  5\n",
      "This process goes to this core 1\n",
      "Current core load:\n",
      "[[9, 9, 8], [9, 9, 7, 5]]\n",
      "Current core sum:\n",
      "[26, 30]\n",
      "_________________________________\n",
      "Next process is  4\n",
      "This process goes to this core 0\n",
      "Current core load:\n",
      "[[9, 9, 8, 4], [9, 9, 7, 5]]\n",
      "Current core sum:\n",
      "[30, 30]\n",
      "_________________________________\n",
      "Next process is  4\n",
      "This process goes to this core 0\n",
      "Current core load:\n",
      "[[9, 9, 8, 4, 4], [9, 9, 7, 5]]\n",
      "Current core sum:\n",
      "[34, 30]\n",
      "_________________________________\n",
      "Next process is  3\n",
      "This process goes to this core 1\n",
      "Current core load:\n",
      "[[9, 9, 8, 4, 4], [9, 9, 7, 5, 3]]\n",
      "Current core sum:\n",
      "[34, 33]\n",
      "_________________________________\n",
      "Next process is  1\n",
      "This process goes to this core 1\n",
      "Current core load:\n",
      "[[9, 9, 8, 4, 4], [9, 9, 7, 5, 3, 1]]\n",
      "Current core sum:\n",
      "[34, 34]\n"
     ]
    }
   ],
   "source": [
    "z = np.random.randint(low = 1, high = 10, size = 11)\n",
    "z[::-1].sort()\n",
    "print(z)\n",
    "x = Processor(cores=2)\n",
    "x.add_processes(z)\n",
    "x.calculate()"
   ],
   "metadata": {
    "collapsed": false,
    "pycharm": {
     "name": "#%%\n"
    }
   }
  },
  {
   "cell_type": "code",
   "execution_count": 3,
   "outputs": [],
   "source": [],
   "metadata": {
    "collapsed": false,
    "pycharm": {
     "name": "#%%\n"
    }
   }
  }
 ],
 "metadata": {
  "kernelspec": {
   "display_name": "Python 3",
   "language": "python",
   "name": "python3"
  },
  "language_info": {
   "codemirror_mode": {
    "name": "ipython",
    "version": 2
   },
   "file_extension": ".py",
   "mimetype": "text/x-python",
   "name": "python",
   "nbconvert_exporter": "python",
   "pygments_lexer": "ipython2",
   "version": "2.7.6"
  }
 },
 "nbformat": 4,
 "nbformat_minor": 0
}