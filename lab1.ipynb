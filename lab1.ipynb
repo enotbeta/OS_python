{
 "cells": [
  {
   "cell_type": "code",
   "execution_count": 72,
   "metadata": {
    "collapsed": true
   },
   "outputs": [],
   "source": [
    "import numpy as np\n",
    "import pandas as pd"
   ]
  },
  {
   "cell_type": "code",
   "execution_count": 73,
   "outputs": [],
   "source": [
    "class Processor:\n",
    "    def __init__(self, cores = 2):\n",
    "        self.processes = []\n",
    "        self.core_number = cores\n",
    "        self.core_load = list()\n",
    "        self.core_sum = list()\n",
    "        for i in range(self.core_number):\n",
    "            self.core_load += [[]]\n",
    "            self.core_sum += [0]\n",
    "    def add_processes(self, processes):\n",
    "        self.processes = processes\n",
    "    def calculate(self):\n",
    "        for process in self.processes:\n",
    "            index_min = min(range(self.core_number), key = lambda i: self.core_sum[i])\n",
    "            self.core_load[index_min].append(process)\n",
    "            self.core_sum[index_min] += process\n",
    "            self.print_step(process)\n",
    "    def refresh(self):\n",
    "        self.core_sum = list(map(lambda x: sum(x), self.core_load))\n",
    "    def print_step(self, step):\n",
    "        print(\"_________________________________\")\n",
    "        print(\"Next process is \", step)\n",
    "        print(\"Current core load:\")\n",
    "        print(self.core_load)\n",
    "        print(\"Current core sum:\")\n",
    "        print(self.core_sum)"
   ],
   "metadata": {
    "collapsed": false,
    "pycharm": {
     "name": "#%%\n"
    }
   }
  },
  {
   "cell_type": "code",
   "execution_count": 74,
   "outputs": [
    {
     "name": "stdout",
     "output_type": "stream",
     "text": [
      "_________________________________\n",
      "Next process is  9\n",
      "Current core load:\n",
      "[[9], [], []]\n",
      "Current core sum:\n",
      "[9, 0, 0]\n",
      "_________________________________\n",
      "Next process is  8\n",
      "Current core load:\n",
      "[[9], [8], []]\n",
      "Current core sum:\n",
      "[9, 8, 0]\n",
      "_________________________________\n",
      "Next process is  8\n",
      "Current core load:\n",
      "[[9], [8], [8]]\n",
      "Current core sum:\n",
      "[9, 8, 8]\n",
      "_________________________________\n",
      "Next process is  7\n",
      "Current core load:\n",
      "[[9], [8, 7], [8]]\n",
      "Current core sum:\n",
      "[9, 15, 8]\n",
      "_________________________________\n",
      "Next process is  7\n",
      "Current core load:\n",
      "[[9], [8, 7], [8, 7]]\n",
      "Current core sum:\n",
      "[9, 15, 15]\n",
      "_________________________________\n",
      "Next process is  7\n",
      "Current core load:\n",
      "[[9, 7], [8, 7], [8, 7]]\n",
      "Current core sum:\n",
      "[16, 15, 15]\n",
      "_________________________________\n",
      "Next process is  7\n",
      "Current core load:\n",
      "[[9, 7], [8, 7, 7], [8, 7]]\n",
      "Current core sum:\n",
      "[16, 22, 15]\n",
      "_________________________________\n",
      "Next process is  6\n",
      "Current core load:\n",
      "[[9, 7], [8, 7, 7], [8, 7, 6]]\n",
      "Current core sum:\n",
      "[16, 22, 21]\n",
      "_________________________________\n",
      "Next process is  4\n",
      "Current core load:\n",
      "[[9, 7, 4], [8, 7, 7], [8, 7, 6]]\n",
      "Current core sum:\n",
      "[20, 22, 21]\n",
      "_________________________________\n",
      "Next process is  2\n",
      "Current core load:\n",
      "[[9, 7, 4, 2], [8, 7, 7], [8, 7, 6]]\n",
      "Current core sum:\n",
      "[22, 22, 21]\n"
     ]
    }
   ],
   "source": [
    "z = np.random.randint(low = 1, high = 10, size = 10)\n",
    "z[::-1].sort()\n",
    "x = Processor(cores=3)\n",
    "x.add_processes(z)\n",
    "x.calculate()"
   ],
   "metadata": {
    "collapsed": false,
    "pycharm": {
     "name": "#%%\n"
    }
   }
  },
  {
   "cell_type": "code",
   "execution_count": null,
   "outputs": [],
   "source": [],
   "metadata": {
    "collapsed": false,
    "pycharm": {
     "name": "#%%\n"
    }
   }
  }
 ],
 "metadata": {
  "kernelspec": {
   "display_name": "Python 3",
   "language": "python",
   "name": "python3"
  },
  "language_info": {
   "codemirror_mode": {
    "name": "ipython",
    "version": 2
   },
   "file_extension": ".py",
   "mimetype": "text/x-python",
   "name": "python",
   "nbconvert_exporter": "python",
   "pygments_lexer": "ipython2",
   "version": "2.7.6"
  }
 },
 "nbformat": 4,
 "nbformat_minor": 0
}