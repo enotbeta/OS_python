{
 "cells": [
  {
   "cell_type": "code",
   "execution_count": 1,
   "metadata": {
    "collapsed": true
   },
   "outputs": [],
   "source": [
    "import numpy as np\n",
    "import pandas as pd"
   ]
  },
  {
   "cell_type": "code",
   "execution_count": 2,
   "outputs": [],
   "source": [
    "class Processor:\n",
    "    def __init__(self):\n",
    "        self.df = pd.DataFrame()\n",
    "        self.processes = list()\n",
    "        self.quant_t = 0\n",
    "    def add_processes(self, processes):\n",
    "        self.processes = pd.Series(processes)\n",
    "        var = [0] *10\n",
    "        dict_data = {'Iteration' : var, 'Quant' : var, 'Total_time' : var, 'process' : var, 'process_time' : var, 'time_left' : var}\n",
    "        self.df = pd.DataFrame(data = dict_data)\n",
    "    def calculate(self):\n",
    "        iter = 0\n",
    "        iter_quant = 0\n",
    "        t = self.quant()\n",
    "        self.quant_t += t\n",
    "        while len(self.processes) != 0:\n",
    "            temp = self.processes.loc[self.processes <= self.quant_t]\n",
    "            while len(temp) == 0:\n",
    "                t = self.quant()\n",
    "                self.quant_t += t\n",
    "                temp = self.processes.loc[self.processes <= self.quant_t]\n",
    "                iter_quant = iter_quant + 1\n",
    "            index = temp.idxmax()\n",
    "            pop = self.processes.pop(index)\n",
    "            self.add(iter = iter, iteration=iter_quant, index=index, process_time=pop, total_time=self.quant_t, quant=t)\n",
    "            self.quant_t -= pop\n",
    "            self.df.at[iter, 'time_left'] = self.quant_t\n",
    "            iter += 1\n",
    "\n",
    "    def quant(self):\n",
    "        return np.random.randint(low = 3, high = 15)\n",
    "    def add(self, iter, iteration = 0, quant = 0, total_time = 0, index = 0, process_time = 0, time_left = 0):\n",
    "        self.df.at[iter, 'Quant']= quant\n",
    "        self.df.at[iter, 'Iteration']= iteration\n",
    "        self.df.at[iter, 'Total_time'] =  total_time\n",
    "        self.df.at[iter, 'process' ] = index\n",
    "        self.df.at[iter, 'process_time'] = process_time\n",
    "        self.df.at[iter, 'time_left'] =   time_left"
   ],
   "metadata": {
    "collapsed": false,
    "pycharm": {
     "name": "#%%\n"
    }
   }
  },
  {
   "cell_type": "code",
   "execution_count": 3,
   "outputs": [
    {
     "name": "stdout",
     "output_type": "stream",
     "text": [
      "[8, 4, 3, 6, 8, 3, 3, 7, 5, 3]\n"
     ]
    }
   ],
   "source": [
    "x = Processor()\n",
    "var = np.random.randint(low = 1, high = 10, size=10)\n",
    "x.add_processes(var)\n",
    "print(var.tolist())\n",
    "x.calculate()"
   ],
   "metadata": {
    "collapsed": false,
    "pycharm": {
     "name": "#%%\n"
    }
   }
  },
  {
   "cell_type": "code",
   "execution_count": 4,
   "outputs": [
    {
     "data": {
      "text/plain": "   Iteration  Quant  Total_time  process  process_time  time_left\n0          0     10          10        0             8          2\n1          1      7           9        4             8          1\n2          2     11          12        7             7          5\n3          2     11           5        8             5          0\n4          3      8           8        3             6          2\n5          4      7           9        1             4          5\n6          4      7           5        2             3          2\n7          5      6           8        5             3          5\n8          5      6           5        6             3          2\n9          6     11          13        9             3         10",
      "text/html": "<div>\n<style scoped>\n    .dataframe tbody tr th:only-of-type {\n        vertical-align: middle;\n    }\n\n    .dataframe tbody tr th {\n        vertical-align: top;\n    }\n\n    .dataframe thead th {\n        text-align: right;\n    }\n</style>\n<table border=\"1\" class=\"dataframe\">\n  <thead>\n    <tr style=\"text-align: right;\">\n      <th></th>\n      <th>Iteration</th>\n      <th>Quant</th>\n      <th>Total_time</th>\n      <th>process</th>\n      <th>process_time</th>\n      <th>time_left</th>\n    </tr>\n  </thead>\n  <tbody>\n    <tr>\n      <th>0</th>\n      <td>0</td>\n      <td>10</td>\n      <td>10</td>\n      <td>0</td>\n      <td>8</td>\n      <td>2</td>\n    </tr>\n    <tr>\n      <th>1</th>\n      <td>1</td>\n      <td>7</td>\n      <td>9</td>\n      <td>4</td>\n      <td>8</td>\n      <td>1</td>\n    </tr>\n    <tr>\n      <th>2</th>\n      <td>2</td>\n      <td>11</td>\n      <td>12</td>\n      <td>7</td>\n      <td>7</td>\n      <td>5</td>\n    </tr>\n    <tr>\n      <th>3</th>\n      <td>2</td>\n      <td>11</td>\n      <td>5</td>\n      <td>8</td>\n      <td>5</td>\n      <td>0</td>\n    </tr>\n    <tr>\n      <th>4</th>\n      <td>3</td>\n      <td>8</td>\n      <td>8</td>\n      <td>3</td>\n      <td>6</td>\n      <td>2</td>\n    </tr>\n    <tr>\n      <th>5</th>\n      <td>4</td>\n      <td>7</td>\n      <td>9</td>\n      <td>1</td>\n      <td>4</td>\n      <td>5</td>\n    </tr>\n    <tr>\n      <th>6</th>\n      <td>4</td>\n      <td>7</td>\n      <td>5</td>\n      <td>2</td>\n      <td>3</td>\n      <td>2</td>\n    </tr>\n    <tr>\n      <th>7</th>\n      <td>5</td>\n      <td>6</td>\n      <td>8</td>\n      <td>5</td>\n      <td>3</td>\n      <td>5</td>\n    </tr>\n    <tr>\n      <th>8</th>\n      <td>5</td>\n      <td>6</td>\n      <td>5</td>\n      <td>6</td>\n      <td>3</td>\n      <td>2</td>\n    </tr>\n    <tr>\n      <th>9</th>\n      <td>6</td>\n      <td>11</td>\n      <td>13</td>\n      <td>9</td>\n      <td>3</td>\n      <td>10</td>\n    </tr>\n  </tbody>\n</table>\n</div>"
     },
     "execution_count": 4,
     "metadata": {},
     "output_type": "execute_result"
    }
   ],
   "source": [
    "x.df"
   ],
   "metadata": {
    "collapsed": false,
    "pycharm": {
     "name": "#%%\n"
    }
   }
  },
  {
   "cell_type": "code",
   "execution_count": 5,
   "outputs": [
    {
     "name": "stdout",
     "output_type": "stream",
     "text": [
      "Sollution sequence\n",
      " [0 4 7 8 3 1 2 5 6 9]\n"
     ]
    }
   ],
   "source": [
    "print(\"Sollution sequence\\n\",x.df['process'].values)"
   ],
   "metadata": {
    "collapsed": false,
    "pycharm": {
     "name": "#%%\n"
    }
   }
  },
  {
   "cell_type": "code",
   "execution_count": 6,
   "outputs": [
    {
     "name": "stdout",
     "output_type": "stream",
     "text": [
      "Sollution sequence\n",
      " [8 8 7 5 6 4 3 3 3 3]\n"
     ]
    }
   ],
   "source": [
    "print(\"Sollution sequence\\n\",x.df['process_time'].values)"
   ],
   "metadata": {
    "collapsed": false,
    "pycharm": {
     "name": "#%%\n"
    }
   }
  },
  {
   "cell_type": "code",
   "execution_count": 6,
   "outputs": [],
   "source": [],
   "metadata": {
    "collapsed": false,
    "pycharm": {
     "name": "#%%\n"
    }
   }
  }
 ],
 "metadata": {
  "kernelspec": {
   "display_name": "Python 3",
   "language": "python",
   "name": "python3"
  },
  "language_info": {
   "codemirror_mode": {
    "name": "ipython",
    "version": 2
   },
   "file_extension": ".py",
   "mimetype": "text/x-python",
   "name": "python",
   "nbconvert_exporter": "python",
   "pygments_lexer": "ipython2",
   "version": "2.7.6"
  }
 },
 "nbformat": 4,
 "nbformat_minor": 0
}