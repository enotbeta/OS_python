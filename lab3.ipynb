{
 "cells": [
  {
   "cell_type": "code",
   "execution_count": 1,
   "outputs": [],
   "source": [
    "import numpy as np"
   ],
   "metadata": {
    "collapsed": false,
    "pycharm": {
     "name": "#%%\n"
    }
   }
  },
  {
   "cell_type": "code",
   "execution_count": 2,
   "metadata": {
    "collapsed": true
   },
   "outputs": [],
   "source": [
    "def create_processes(n = 0):\n",
    "    processes = np.random.randint(low = 1, high = 6, size = n)\n",
    "    querry = np.zeros((n,0))\n",
    "    return processes,querry"
   ]
  },
  {
   "cell_type": "code",
   "execution_count": 3,
   "outputs": [],
   "source": [
    "def compute_fcfs(processes, querry):\n",
    "    n = len(processes)\n",
    "    for i in range(n):\n",
    "        for j in range(processes[i]):\n",
    "            array = np.array([[0]*(i)+[1]+[-1]*(n-i-1)]).transpose()\n",
    "            querry = np.append(querry, array, axis=1)\n",
    "    return querry"
   ],
   "metadata": {
    "collapsed": false,
    "pycharm": {
     "name": "#%%\n"
    }
   }
  },
  {
   "cell_type": "code",
   "execution_count": 4,
   "outputs": [],
   "source": [
    "def compute_sjf(processes, querry):\n",
    "    n = len(processes)\n",
    "    t = list(processes)\n",
    "    t.sort()\n",
    "    for i in range(n):\n",
    "        for j in range(t[i]):\n",
    "            array = np.array([[0]*(i)+[1]+[-1]*(n-i-1)]).transpose()\n",
    "            querry = np.append(querry, array, axis=1)\n",
    "    return querry"
   ],
   "metadata": {
    "collapsed": false,
    "pycharm": {
     "name": "#%%\n"
    }
   }
  },
  {
   "cell_type": "code",
   "execution_count": 5,
   "outputs": [],
   "source": [
    "process , gantt_f = create_processes(n = 5)"
   ],
   "metadata": {
    "collapsed": false,
    "pycharm": {
     "name": "#%%\n"
    }
   }
  },
  {
   "cell_type": "code",
   "execution_count": 6,
   "outputs": [
    {
     "data": {
      "text/plain": "array([3, 2, 2, 1, 2])"
     },
     "execution_count": 6,
     "metadata": {},
     "output_type": "execute_result"
    }
   ],
   "source": [
    "process"
   ],
   "metadata": {
    "collapsed": false,
    "pycharm": {
     "name": "#%%\n"
    }
   }
  },
  {
   "cell_type": "code",
   "execution_count": 7,
   "outputs": [],
   "source": [
    "gantt = compute_fcfs(process, gantt_f)"
   ],
   "metadata": {
    "collapsed": false,
    "pycharm": {
     "name": "#%%\n"
    }
   }
  },
  {
   "cell_type": "code",
   "execution_count": 8,
   "outputs": [
    {
     "data": {
      "text/plain": "array([[ 1.,  1.,  1.,  0.,  0.,  0.,  0.,  0.,  0.,  0.],\n       [-1., -1., -1.,  1.,  1.,  0.,  0.,  0.,  0.,  0.],\n       [-1., -1., -1., -1., -1.,  1.,  1.,  0.,  0.,  0.],\n       [-1., -1., -1., -1., -1., -1., -1.,  1.,  0.,  0.],\n       [-1., -1., -1., -1., -1., -1., -1., -1.,  1.,  1.]])"
     },
     "execution_count": 8,
     "metadata": {},
     "output_type": "execute_result"
    }
   ],
   "source": [
    "gantt"
   ],
   "metadata": {
    "collapsed": false,
    "pycharm": {
     "name": "#%%\n"
    }
   }
  },
  {
   "cell_type": "code",
   "execution_count": 9,
   "outputs": [
    {
     "data": {
      "text/plain": "array([[ 1.,  0.,  0.,  0.,  0.,  0.,  0.,  0.,  0.,  0.],\n       [-1.,  1.,  1.,  0.,  0.,  0.,  0.,  0.,  0.,  0.],\n       [-1., -1., -1.,  1.,  1.,  0.,  0.,  0.,  0.,  0.],\n       [-1., -1., -1., -1., -1.,  1.,  1.,  0.,  0.,  0.],\n       [-1., -1., -1., -1., -1., -1., -1.,  1.,  1.,  1.]])"
     },
     "execution_count": 9,
     "metadata": {},
     "output_type": "execute_result"
    }
   ],
   "source": [
    "gantt1 = compute_sjf(process, gantt_f)\n",
    "gantt1"
   ],
   "metadata": {
    "collapsed": false,
    "pycharm": {
     "name": "#%%\n"
    }
   }
  },
  {
   "cell_type": "code",
   "execution_count": 10,
   "outputs": [],
   "source": [
    "def count_downtime(array):\n",
    "    unique, counts = np.unique(array, return_counts=True)\n",
    "    d = dict(zip(unique, counts))\n",
    "    print(\"Среднее время ожидания\", d[-1]/5)\n",
    "def count_working(array):\n",
    "    unique, counts = np.unique(array, return_counts=True)\n",
    "    d = dict(zip(unique, counts))\n",
    "    print(\"Среднее время выполнения\", (d[-1] + d[1])/5)"
   ],
   "metadata": {
    "collapsed": false,
    "pycharm": {
     "name": "#%%\n"
    }
   }
  },
  {
   "cell_type": "code",
   "execution_count": 11,
   "outputs": [
    {
     "name": "stdout",
     "output_type": "stream",
     "text": [
      "Среднее время ожидания 4.6\n",
      "Среднее время выполнения 6.6\n"
     ]
    }
   ],
   "source": [
    "count_downtime(gantt)\n",
    "count_working(gantt)"
   ],
   "metadata": {
    "collapsed": false,
    "pycharm": {
     "name": "#%%\n"
    }
   }
  },
  {
   "cell_type": "code",
   "execution_count": 12,
   "outputs": [
    {
     "name": "stdout",
     "output_type": "stream",
     "text": [
      "Среднее время ожидания 3.2\n",
      "Среднее время выполнения 5.2\n"
     ]
    }
   ],
   "source": [
    "count_downtime(gantt1)\n",
    "count_working(gantt1)"
   ],
   "metadata": {
    "collapsed": false,
    "pycharm": {
     "name": "#%%\n"
    }
   }
  },
  {
   "cell_type": "code",
   "execution_count": 13,
   "outputs": [
    {
     "data": {
      "text/plain": "array([[ 1.,  1.,  1.,  0.,  0.,  0.,  0.,  0.,  0.,  0.],\n       [-1., -1., -1.,  1.,  1.,  0.,  0.,  0.,  0.,  0.],\n       [-1., -1., -1., -1., -1.,  1.,  1.,  0.,  0.,  0.],\n       [-1., -1., -1., -1., -1., -1., -1.,  1.,  0.,  0.],\n       [-1., -1., -1., -1., -1., -1., -1., -1.,  1.,  1.]])"
     },
     "execution_count": 13,
     "metadata": {},
     "output_type": "execute_result"
    }
   ],
   "source": [
    "gantt"
   ],
   "metadata": {
    "collapsed": false,
    "pycharm": {
     "name": "#%%\n"
    }
   }
  },
  {
   "cell_type": "code",
   "execution_count": 14,
   "outputs": [
    {
     "data": {
      "text/plain": "array([[ 1.,  0.,  0.,  0.,  0.,  0.,  0.,  0.,  0.,  0.],\n       [-1.,  1.,  1.,  0.,  0.,  0.,  0.,  0.,  0.,  0.],\n       [-1., -1., -1.,  1.,  1.,  0.,  0.,  0.,  0.,  0.],\n       [-1., -1., -1., -1., -1.,  1.,  1.,  0.,  0.,  0.],\n       [-1., -1., -1., -1., -1., -1., -1.,  1.,  1.,  1.]])"
     },
     "execution_count": 14,
     "metadata": {},
     "output_type": "execute_result"
    }
   ],
   "source": [
    "gantt1"
   ],
   "metadata": {
    "collapsed": false,
    "pycharm": {
     "name": "#%%\n"
    }
   }
  },
  {
   "cell_type": "code",
   "execution_count": 14,
   "outputs": [],
   "source": [],
   "metadata": {
    "collapsed": false,
    "pycharm": {
     "name": "#%%\n"
    }
   }
  },
  {
   "cell_type": "code",
   "execution_count": 14,
   "outputs": [],
   "source": [],
   "metadata": {
    "collapsed": false,
    "pycharm": {
     "name": "#%%\n"
    }
   }
  }
 ],
 "metadata": {
  "kernelspec": {
   "display_name": "Python 3",
   "language": "python",
   "name": "python3"
  },
  "language_info": {
   "codemirror_mode": {
    "name": "ipython",
    "version": 2
   },
   "file_extension": ".py",
   "mimetype": "text/x-python",
   "name": "python",
   "nbconvert_exporter": "python",
   "pygments_lexer": "ipython2",
   "version": "2.7.6"
  }
 },
 "nbformat": 4,
 "nbformat_minor": 0
}